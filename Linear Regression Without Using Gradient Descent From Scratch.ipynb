{
 "cells": [
  {
   "cell_type": "code",
   "execution_count": 1,
   "metadata": {},
   "outputs": [],
   "source": [
    "import pandas as pd\n",
    "import numpy as np\n",
    "from matplotlib import pyplot as plt\n",
    "\n",
    "Train = pd.read_csv('train.csv')\n",
    "Test = pd.read_csv('test.csv')"
   ]
  },
  {
   "cell_type": "code",
   "execution_count": 2,
   "metadata": {},
   "outputs": [],
   "source": [
    "x = Train.x\n",
    "xM = np.mean(x)\n",
    "y = Train.y\n",
    "yM = np.mean(y)\n",
    "\n",
    "slope = round((((xM*yM) - (np.mean(x*y))) / ((xM*xM) - (np.mean(x*x)))), 2)"
   ]
  },
  {
   "cell_type": "code",
   "execution_count": 3,
   "metadata": {},
   "outputs": [],
   "source": [
    "C = round(((xM-yM)*slope), 2)"
   ]
  },
  {
   "cell_type": "code",
   "execution_count": 4,
   "metadata": {},
   "outputs": [],
   "source": [
    "reg_line = np.array([(slope*X)+C for X in x])"
   ]
  },
  {
   "cell_type": "code",
   "execution_count": 5,
   "metadata": {},
   "outputs": [
    {
     "data": {
      "image/png": "[encoded data removed]",
      "text/plain": [
       "<Figure size 432x288 with 1 Axes>"
      ]
     },
     "metadata": {
      "needs_background": "light"
     },
     "output_type": "display_data"
    }
   ],
   "source": [
    "plt.scatter(Train.x, Train.y)\n",
    "plt.plot(x , reg_line, color=\"red\")\n",
    "plt.show()"
   ]
  },
  {
   "cell_type": "code",
   "execution_count": 6,
   "metadata": {},
   "outputs": [],
   "source": [
    "linet = []\n",
    "for r in range(len(Test)):\n",
    "    linet.append((slope*Test.x[r])+C)"
   ]
  },
  {
   "cell_type": "code",
   "execution_count": 7,
   "metadata": {},
   "outputs": [],
   "source": [
    "errorPer =[]\n",
    "for i in range(len(Test)):\n",
    "    if linet[i] < Test.y[i]:\n",
    "        if (((Test.y[i] - linet[i])/Test.y[i])*100) < int(100):\n",
    "            errorPer.append(((Test.y[i] - linet[i])/Test.y[i])*100)\n",
    "    else:\n",
    "        if (((linet[i] - Test.y[i])/ linet[i])*100) < int(100):\n",
    "            errorPer.append(((linet[i] - Test.y[i])/ linet[i])*100)"
   ]
  },
  {
   "cell_type": "code",
   "execution_count": 8,
   "metadata": {},
   "outputs": [],
   "source": [
    "errorPer = np.array(errorPer)\n",
    "Accuracy = np.mean(np.array(np.abs(errorPer-100)))\n"
   ]
  },
  {
   "cell_type": "code",
   "execution_count": 9,
   "metadata": {},
   "outputs": [
    {
     "data": {
      "text/plain": [
       "92.1918169466303"
      ]
     },
     "execution_count": 9,
     "metadata": {},
     "output_type": "execute_result"
    }
   ],
   "source": [
    "Accuracy"
   ]
  },
  {
   "cell_type": "code",
   "execution_count": null,
   "metadata": {},
   "outputs": [],
   "source": []
  }
 ],
 "metadata": {
  "kernelspec": {
   "display_name": "Python 3",
   "language": "python",
   "name": "python3"
  },
  "language_info": {
   "codemirror_mode": {
    "name": "ipython",
    "version": 3
   },
   "file_extension": ".py",
   "mimetype": "text/x-python",
   "name": "python",
   "nbconvert_exporter": "python",
   "pygments_lexer": "ipython3",
   "version": "3.7.0"
  }
 },
 "nbformat": 4,
 "nbformat_minor": 2
}
