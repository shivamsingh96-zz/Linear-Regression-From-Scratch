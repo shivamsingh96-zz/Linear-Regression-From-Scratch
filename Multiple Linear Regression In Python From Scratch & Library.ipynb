{
 "cells": [
  {
   "cell_type": "code",
   "execution_count": 37,
   "metadata": {},
   "outputs": [],
   "source": [
    "#Importing Important Libraries\n",
    "\n",
    "%matplotlib inline\n",
    "import numpy as np\n",
    "import pandas as pd\n",
    "import matplotlib.pyplot as plt\n",
    "import seaborn as sns\n",
    "plt.rcParams['figure.figsize'] = (20.0, 10.0)\n",
    "from mpl_toolkits.mplot3d import Axes3D\n",
    "\n"
   ]
  },
  {
   "cell_type": "code",
   "execution_count": 38,
   "metadata": {},
   "outputs": [],
   "source": [
    "dataset = pd.read_csv('https://raw.githubusercontent.com/Shreyas3108/house-price-prediction/master/kc_house_data.csv')"
   ]
  },
  {
   "cell_type": "code",
   "execution_count": 39,
   "metadata": {},
   "outputs": [
    {
     "data": {
      "text/html": [
       "<div>\n",
       "<style scoped>\n",
       "    .dataframe tbody tr th:only-of-type {\n",
       "        vertical-align: middle;\n",
       "    }\n",
       "\n",
       "    .dataframe tbody tr th {\n",
       "        vertical-align: top;\n",
       "    }\n",
       "\n",
       "    .dataframe thead th {\n",
       "        text-align: right;\n",
       "    }\n",
       "</style>\n",
       "<table border=\"1\" class=\"dataframe\">\n",
       "  <thead>\n",
       "    <tr style=\"text-align: right;\">\n",
       "      <th></th>\n",
       "      <th>id</th>\n",
       "      <th>date</th>\n",
       "      <th>price</th>\n",
       "      <th>bedrooms</th>\n",
       "      <th>bathrooms</th>\n",
       "      <th>sqft_living</th>\n",
       "      <th>sqft_lot</th>\n",
       "      <th>floors</th>\n",
       "      <th>waterfront</th>\n",
       "      <th>view</th>\n",
       "      <th>...</th>\n",
       "      <th>grade</th>\n",
       "      <th>sqft_above</th>\n",
       "      <th>sqft_basement</th>\n",
       "      <th>yr_built</th>\n",
       "      <th>yr_renovated</th>\n",
       "      <th>zipcode</th>\n",
       "      <th>lat</th>\n",
       "      <th>long</th>\n",
       "      <th>sqft_living15</th>\n",
       "      <th>sqft_lot15</th>\n",
       "    </tr>\n",
       "  </thead>\n",
       "  <tbody>\n",
       "    <tr>\n",
       "      <th>0</th>\n",
       "      <td>7129300520</td>\n",
       "      <td>20141013T000000</td>\n",
       "      <td>221900.0</td>\n",
       "      <td>3</td>\n",
       "      <td>1.00</td>\n",
       "      <td>1180</td>\n",
       "      <td>5650</td>\n",
       "      <td>1.0</td>\n",
       "      <td>0</td>\n",
       "      <td>0</td>\n",
       "      <td>...</td>\n",
       "      <td>7</td>\n",
       "      <td>1180</td>\n",
       "      <td>0</td>\n",
       "      <td>1955</td>\n",
       "      <td>0</td>\n",
       "      <td>98178</td>\n",
       "      <td>47.5112</td>\n",
       "      <td>-122.257</td>\n",
       "      <td>1340</td>\n",
       "      <td>5650</td>\n",
       "    </tr>\n",
       "    <tr>\n",
       "      <th>1</th>\n",
       "      <td>6414100192</td>\n",
       "      <td>20141209T000000</td>\n",
       "      <td>538000.0</td>\n",
       "      <td>3</td>\n",
       "      <td>2.25</td>\n",
       "      <td>2570</td>\n",
       "      <td>7242</td>\n",
       "      <td>2.0</td>\n",
       "      <td>0</td>\n",
       "      <td>0</td>\n",
       "      <td>...</td>\n",
       "      <td>7</td>\n",
       "      <td>2170</td>\n",
       "      <td>400</td>\n",
       "      <td>1951</td>\n",
       "      <td>1991</td>\n",
       "      <td>98125</td>\n",
       "      <td>47.7210</td>\n",
       "      <td>-122.319</td>\n",
       "      <td>1690</td>\n",
       "      <td>7639</td>\n",
       "    </tr>\n",
       "    <tr>\n",
       "      <th>2</th>\n",
       "      <td>5631500400</td>\n",
       "      <td>20150225T000000</td>\n",
       "      <td>180000.0</td>\n",
       "      <td>2</td>\n",
       "      <td>1.00</td>\n",
       "      <td>770</td>\n",
       "      <td>10000</td>\n",
       "      <td>1.0</td>\n",
       "      <td>0</td>\n",
       "      <td>0</td>\n",
       "      <td>...</td>\n",
       "      <td>6</td>\n",
       "      <td>770</td>\n",
       "      <td>0</td>\n",
       "      <td>1933</td>\n",
       "      <td>0</td>\n",
       "      <td>98028</td>\n",
       "      <td>47.7379</td>\n",
       "      <td>-122.233</td>\n",
       "      <td>2720</td>\n",
       "      <td>8062</td>\n",
       "    </tr>\n",
       "    <tr>\n",
       "      <th>3</th>\n",
       "      <td>2487200875</td>\n",
       "      <td>20141209T000000</td>\n",
       "      <td>604000.0</td>\n",
       "      <td>4</td>\n",
       "      <td>3.00</td>\n",
       "      <td>1960</td>\n",
       "      <td>5000</td>\n",
       "      <td>1.0</td>\n",
       "      <td>0</td>\n",
       "      <td>0</td>\n",
       "      <td>...</td>\n",
       "      <td>7</td>\n",
       "      <td>1050</td>\n",
       "      <td>910</td>\n",
       "      <td>1965</td>\n",
       "      <td>0</td>\n",
       "      <td>98136</td>\n",
       "      <td>47.5208</td>\n",
       "      <td>-122.393</td>\n",
       "      <td>1360</td>\n",
       "      <td>5000</td>\n",
       "    </tr>\n",
       "    <tr>\n",
       "      <th>4</th>\n",
       "      <td>1954400510</td>\n",
       "      <td>20150218T000000</td>\n",
       "      <td>510000.0</td>\n",
       "      <td>3</td>\n",
       "      <td>2.00</td>\n",
       "      <td>1680</td>\n",
       "      <td>8080</td>\n",
       "      <td>1.0</td>\n",
       "      <td>0</td>\n",
       "      <td>0</td>\n",
       "      <td>...</td>\n",
       "      <td>8</td>\n",
       "      <td>1680</td>\n",
       "      <td>0</td>\n",
       "      <td>1987</td>\n",
       "      <td>0</td>\n",
       "      <td>98074</td>\n",
       "      <td>47.6168</td>\n",
       "      <td>-122.045</td>\n",
       "      <td>1800</td>\n",
       "      <td>7503</td>\n",
       "    </tr>\n",
       "  </tbody>\n",
       "</table>\n",
       "<p>5 rows × 21 columns</p>\n",
       "</div>"
      ],
      "text/plain": [
       "           id             date     price  bedrooms  bathrooms  sqft_living  \\\n",
       "0  7129300520  20141013T000000  221900.0         3       1.00         1180   \n",
       "1  6414100192  20141209T000000  538000.0         3       2.25         2570   \n",
       "2  5631500400  20150225T000000  180000.0         2       1.00          770   \n",
       "3  2487200875  20141209T000000  604000.0         4       3.00         1960   \n",
       "4  1954400510  20150218T000000  510000.0         3       2.00         1680   \n",
       "\n",
       "   sqft_lot  floors  waterfront  view     ...      grade  sqft_above  \\\n",
       "0      5650     1.0           0     0     ...          7        1180   \n",
       "1      7242     2.0           0     0     ...          7        2170   \n",
       "2     10000     1.0           0     0     ...          6         770   \n",
       "3      5000     1.0           0     0     ...          7        1050   \n",
       "4      8080     1.0           0     0     ...          8        1680   \n",
       "\n",
       "   sqft_basement  yr_built  yr_renovated  zipcode      lat     long  \\\n",
       "0              0      1955             0    98178  47.5112 -122.257   \n",
       "1            400      1951          1991    98125  47.7210 -122.319   \n",
       "2              0      1933             0    98028  47.7379 -122.233   \n",
       "3            910      1965             0    98136  47.5208 -122.393   \n",
       "4              0      1987             0    98074  47.6168 -122.045   \n",
       "\n",
       "   sqft_living15  sqft_lot15  \n",
       "0           1340        5650  \n",
       "1           1690        7639  \n",
       "2           2720        8062  \n",
       "3           1360        5000  \n",
       "4           1800        7503  \n",
       "\n",
       "[5 rows x 21 columns]"
      ]
     },
     "execution_count": 39,
     "metadata": {},
     "output_type": "execute_result"
    }
   ],
   "source": [
    "dataset.head()"
   ]
  },
  {
   "cell_type": "code",
   "execution_count": 40,
   "metadata": {},
   "outputs": [],
   "source": [
    "ones = pd.DataFrame(np.ones((dataset.shape[0],1)),columns=[\"bias\"])"
   ]
  },
  {
   "cell_type": "code",
   "execution_count": 41,
   "metadata": {},
   "outputs": [],
   "source": [
    "dataset = pd.concat([dataset,ones],axis=1)"
   ]
  },
  {
   "cell_type": "markdown",
   "metadata": {},
   "source": [
    "## Analyzing Our Data"
   ]
  },
  {
   "cell_type": "code",
   "execution_count": 42,
   "metadata": {},
   "outputs": [
    {
     "data": {
      "text/plain": [
       "id               0\n",
       "date             0\n",
       "price            0\n",
       "bedrooms         0\n",
       "bathrooms        0\n",
       "sqft_living      0\n",
       "sqft_lot         0\n",
       "floors           0\n",
       "waterfront       0\n",
       "view             0\n",
       "condition        0\n",
       "grade            0\n",
       "sqft_above       0\n",
       "sqft_basement    0\n",
       "yr_built         0\n",
       "yr_renovated     0\n",
       "zipcode          0\n",
       "lat              0\n",
       "long             0\n",
       "sqft_living15    0\n",
       "sqft_lot15       0\n",
       "bias             0\n",
       "dtype: int64"
      ]
     },
     "execution_count": 42,
     "metadata": {},
     "output_type": "execute_result"
    }
   ],
   "source": [
    "dataset.isnull().sum()"
   ]
  },
  {
   "cell_type": "code",
   "execution_count": 43,
   "metadata": {},
   "outputs": [
    {
     "data": {
      "text/html": [
       "<div>\n",
       "<style scoped>\n",
       "    .dataframe tbody tr th:only-of-type {\n",
       "        vertical-align: middle;\n",
       "    }\n",
       "\n",
       "    .dataframe tbody tr th {\n",
       "        vertical-align: top;\n",
       "    }\n",
       "\n",
       "    .dataframe thead th {\n",
       "        text-align: right;\n",
       "    }\n",
       "</style>\n",
       "<table border=\"1\" class=\"dataframe\">\n",
       "  <thead>\n",
       "    <tr style=\"text-align: right;\">\n",
       "      <th></th>\n",
       "      <th>id</th>\n",
       "      <th>date</th>\n",
       "      <th>price</th>\n",
       "      <th>bedrooms</th>\n",
       "      <th>bathrooms</th>\n",
       "      <th>sqft_living</th>\n",
       "      <th>sqft_lot</th>\n",
       "      <th>floors</th>\n",
       "      <th>waterfront</th>\n",
       "      <th>view</th>\n",
       "      <th>...</th>\n",
       "      <th>sqft_above</th>\n",
       "      <th>sqft_basement</th>\n",
       "      <th>yr_built</th>\n",
       "      <th>yr_renovated</th>\n",
       "      <th>zipcode</th>\n",
       "      <th>lat</th>\n",
       "      <th>long</th>\n",
       "      <th>sqft_living15</th>\n",
       "      <th>sqft_lot15</th>\n",
       "      <th>bias</th>\n",
       "    </tr>\n",
       "  </thead>\n",
       "  <tbody>\n",
       "    <tr>\n",
       "      <th>0</th>\n",
       "      <td>7129300520</td>\n",
       "      <td>20141013T000000</td>\n",
       "      <td>221900.0</td>\n",
       "      <td>3</td>\n",
       "      <td>1.00</td>\n",
       "      <td>1180</td>\n",
       "      <td>5650</td>\n",
       "      <td>1.0</td>\n",
       "      <td>0</td>\n",
       "      <td>0</td>\n",
       "      <td>...</td>\n",
       "      <td>1180</td>\n",
       "      <td>0</td>\n",
       "      <td>1955</td>\n",
       "      <td>0</td>\n",
       "      <td>98178</td>\n",
       "      <td>47.5112</td>\n",
       "      <td>-122.257</td>\n",
       "      <td>1340</td>\n",
       "      <td>5650</td>\n",
       "      <td>1.0</td>\n",
       "    </tr>\n",
       "    <tr>\n",
       "      <th>1</th>\n",
       "      <td>6414100192</td>\n",
       "      <td>20141209T000000</td>\n",
       "      <td>538000.0</td>\n",
       "      <td>3</td>\n",
       "      <td>2.25</td>\n",
       "      <td>2570</td>\n",
       "      <td>7242</td>\n",
       "      <td>2.0</td>\n",
       "      <td>0</td>\n",
       "      <td>0</td>\n",
       "      <td>...</td>\n",
       "      <td>2170</td>\n",
       "      <td>400</td>\n",
       "      <td>1951</td>\n",
       "      <td>1991</td>\n",
       "      <td>98125</td>\n",
       "      <td>47.7210</td>\n",
       "      <td>-122.319</td>\n",
       "      <td>1690</td>\n",
       "      <td>7639</td>\n",
       "      <td>1.0</td>\n",
       "    </tr>\n",
       "    <tr>\n",
       "      <th>2</th>\n",
       "      <td>5631500400</td>\n",
       "      <td>20150225T000000</td>\n",
       "      <td>180000.0</td>\n",
       "      <td>2</td>\n",
       "      <td>1.00</td>\n",
       "      <td>770</td>\n",
       "      <td>10000</td>\n",
       "      <td>1.0</td>\n",
       "      <td>0</td>\n",
       "      <td>0</td>\n",
       "      <td>...</td>\n",
       "      <td>770</td>\n",
       "      <td>0</td>\n",
       "      <td>1933</td>\n",
       "      <td>0</td>\n",
       "      <td>98028</td>\n",
       "      <td>47.7379</td>\n",
       "      <td>-122.233</td>\n",
       "      <td>2720</td>\n",
       "      <td>8062</td>\n",
       "      <td>1.0</td>\n",
       "    </tr>\n",
       "    <tr>\n",
       "      <th>3</th>\n",
       "      <td>2487200875</td>\n",
       "      <td>20141209T000000</td>\n",
       "      <td>604000.0</td>\n",
       "      <td>4</td>\n",
       "      <td>3.00</td>\n",
       "      <td>1960</td>\n",
       "      <td>5000</td>\n",
       "      <td>1.0</td>\n",
       "      <td>0</td>\n",
       "      <td>0</td>\n",
       "      <td>...</td>\n",
       "      <td>1050</td>\n",
       "      <td>910</td>\n",
       "      <td>1965</td>\n",
       "      <td>0</td>\n",
       "      <td>98136</td>\n",
       "      <td>47.5208</td>\n",
       "      <td>-122.393</td>\n",
       "      <td>1360</td>\n",
       "      <td>5000</td>\n",
       "      <td>1.0</td>\n",
       "    </tr>\n",
       "    <tr>\n",
       "      <th>4</th>\n",
       "      <td>1954400510</td>\n",
       "      <td>20150218T000000</td>\n",
       "      <td>510000.0</td>\n",
       "      <td>3</td>\n",
       "      <td>2.00</td>\n",
       "      <td>1680</td>\n",
       "      <td>8080</td>\n",
       "      <td>1.0</td>\n",
       "      <td>0</td>\n",
       "      <td>0</td>\n",
       "      <td>...</td>\n",
       "      <td>1680</td>\n",
       "      <td>0</td>\n",
       "      <td>1987</td>\n",
       "      <td>0</td>\n",
       "      <td>98074</td>\n",
       "      <td>47.6168</td>\n",
       "      <td>-122.045</td>\n",
       "      <td>1800</td>\n",
       "      <td>7503</td>\n",
       "      <td>1.0</td>\n",
       "    </tr>\n",
       "  </tbody>\n",
       "</table>\n",
       "<p>5 rows × 22 columns</p>\n",
       "</div>"
      ],
      "text/plain": [
       "           id             date     price  bedrooms  bathrooms  sqft_living  \\\n",
       "0  7129300520  20141013T000000  221900.0         3       1.00         1180   \n",
       "1  6414100192  20141209T000000  538000.0         3       2.25         2570   \n",
       "2  5631500400  20150225T000000  180000.0         2       1.00          770   \n",
       "3  2487200875  20141209T000000  604000.0         4       3.00         1960   \n",
       "4  1954400510  20150218T000000  510000.0         3       2.00         1680   \n",
       "\n",
       "   sqft_lot  floors  waterfront  view  ...   sqft_above  sqft_basement  \\\n",
       "0      5650     1.0           0     0  ...         1180              0   \n",
       "1      7242     2.0           0     0  ...         2170            400   \n",
       "2     10000     1.0           0     0  ...          770              0   \n",
       "3      5000     1.0           0     0  ...         1050            910   \n",
       "4      8080     1.0           0     0  ...         1680              0   \n",
       "\n",
       "   yr_built  yr_renovated  zipcode      lat     long  sqft_living15  \\\n",
       "0      1955             0    98178  47.5112 -122.257           1340   \n",
       "1      1951          1991    98125  47.7210 -122.319           1690   \n",
       "2      1933             0    98028  47.7379 -122.233           2720   \n",
       "3      1965             0    98136  47.5208 -122.393           1360   \n",
       "4      1987             0    98074  47.6168 -122.045           1800   \n",
       "\n",
       "   sqft_lot15  bias  \n",
       "0        5650   1.0  \n",
       "1        7639   1.0  \n",
       "2        8062   1.0  \n",
       "3        5000   1.0  \n",
       "4        7503   1.0  \n",
       "\n",
       "[5 rows x 22 columns]"
      ]
     },
     "execution_count": 43,
     "metadata": {},
     "output_type": "execute_result"
    }
   ],
   "source": [
    "dataset.head()"
   ]
  },
  {
   "cell_type": "code",
   "execution_count": 44,
   "metadata": {},
   "outputs": [
    {
     "data": {
      "text/plain": [
       "<matplotlib.axes._subplots.AxesSubplot at 0x19b63bccc88>"
      ]
     },
     "execution_count": 44,
     "metadata": {},
     "output_type": "execute_result"
    },
    {
     "data": {
      "image/png": "[encoded data removed]",
      "text/plain": [
       "<Figure size 1440x720 with 2 Axes>"
      ]
     },
     "metadata": {},
     "output_type": "display_data"
    }
   ],
   "source": [
    "# Plotting heat map for analyzing correlation with house price\n",
    "corr = dataset.corr()\n",
    "sns.set(style='whitegrid',color_codes=True)\n",
    "plt.xticks(rotation=90)\n",
    "sns.heatmap(corr,cmap = plt.cm.cubehelix_r)"
   ]
  },
  {
   "cell_type": "markdown",
   "metadata": {},
   "source": [
    "By plotting the heatmap we will get the idea that many features in the dataset have no relation with the price , so we can drop that features also "
   ]
  },
  {
   "cell_type": "code",
   "execution_count": 45,
   "metadata": {},
   "outputs": [],
   "source": [
    "dataset = dataset.drop(['id','date','yr_built','yr_renovated','zipcode','lat'],axis=1,inplace=False)"
   ]
  },
  {
   "cell_type": "code",
   "execution_count": 46,
   "metadata": {},
   "outputs": [
    {
     "data": {
      "text/html": [
       "<div>\n",
       "<style scoped>\n",
       "    .dataframe tbody tr th:only-of-type {\n",
       "        vertical-align: middle;\n",
       "    }\n",
       "\n",
       "    .dataframe tbody tr th {\n",
       "        vertical-align: top;\n",
       "    }\n",
       "\n",
       "    .dataframe thead th {\n",
       "        text-align: right;\n",
       "    }\n",
       "</style>\n",
       "<table border=\"1\" class=\"dataframe\">\n",
       "  <thead>\n",
       "    <tr style=\"text-align: right;\">\n",
       "      <th></th>\n",
       "      <th>price</th>\n",
       "      <th>bedrooms</th>\n",
       "      <th>bathrooms</th>\n",
       "      <th>sqft_living</th>\n",
       "      <th>sqft_lot</th>\n",
       "      <th>floors</th>\n",
       "      <th>waterfront</th>\n",
       "      <th>view</th>\n",
       "      <th>condition</th>\n",
       "      <th>grade</th>\n",
       "      <th>sqft_above</th>\n",
       "      <th>sqft_basement</th>\n",
       "      <th>long</th>\n",
       "      <th>sqft_living15</th>\n",
       "      <th>sqft_lot15</th>\n",
       "      <th>bias</th>\n",
       "    </tr>\n",
       "  </thead>\n",
       "  <tbody>\n",
       "    <tr>\n",
       "      <th>0</th>\n",
       "      <td>221900.0</td>\n",
       "      <td>3</td>\n",
       "      <td>1.00</td>\n",
       "      <td>1180</td>\n",
       "      <td>5650</td>\n",
       "      <td>1.0</td>\n",
       "      <td>0</td>\n",
       "      <td>0</td>\n",
       "      <td>3</td>\n",
       "      <td>7</td>\n",
       "      <td>1180</td>\n",
       "      <td>0</td>\n",
       "      <td>-122.257</td>\n",
       "      <td>1340</td>\n",
       "      <td>5650</td>\n",
       "      <td>1.0</td>\n",
       "    </tr>\n",
       "    <tr>\n",
       "      <th>1</th>\n",
       "      <td>538000.0</td>\n",
       "      <td>3</td>\n",
       "      <td>2.25</td>\n",
       "      <td>2570</td>\n",
       "      <td>7242</td>\n",
       "      <td>2.0</td>\n",
       "      <td>0</td>\n",
       "      <td>0</td>\n",
       "      <td>3</td>\n",
       "      <td>7</td>\n",
       "      <td>2170</td>\n",
       "      <td>400</td>\n",
       "      <td>-122.319</td>\n",
       "      <td>1690</td>\n",
       "      <td>7639</td>\n",
       "      <td>1.0</td>\n",
       "    </tr>\n",
       "    <tr>\n",
       "      <th>2</th>\n",
       "      <td>180000.0</td>\n",
       "      <td>2</td>\n",
       "      <td>1.00</td>\n",
       "      <td>770</td>\n",
       "      <td>10000</td>\n",
       "      <td>1.0</td>\n",
       "      <td>0</td>\n",
       "      <td>0</td>\n",
       "      <td>3</td>\n",
       "      <td>6</td>\n",
       "      <td>770</td>\n",
       "      <td>0</td>\n",
       "      <td>-122.233</td>\n",
       "      <td>2720</td>\n",
       "      <td>8062</td>\n",
       "      <td>1.0</td>\n",
       "    </tr>\n",
       "    <tr>\n",
       "      <th>3</th>\n",
       "      <td>604000.0</td>\n",
       "      <td>4</td>\n",
       "      <td>3.00</td>\n",
       "      <td>1960</td>\n",
       "      <td>5000</td>\n",
       "      <td>1.0</td>\n",
       "      <td>0</td>\n",
       "      <td>0</td>\n",
       "      <td>5</td>\n",
       "      <td>7</td>\n",
       "      <td>1050</td>\n",
       "      <td>910</td>\n",
       "      <td>-122.393</td>\n",
       "      <td>1360</td>\n",
       "      <td>5000</td>\n",
       "      <td>1.0</td>\n",
       "    </tr>\n",
       "    <tr>\n",
       "      <th>4</th>\n",
       "      <td>510000.0</td>\n",
       "      <td>3</td>\n",
       "      <td>2.00</td>\n",
       "      <td>1680</td>\n",
       "      <td>8080</td>\n",
       "      <td>1.0</td>\n",
       "      <td>0</td>\n",
       "      <td>0</td>\n",
       "      <td>3</td>\n",
       "      <td>8</td>\n",
       "      <td>1680</td>\n",
       "      <td>0</td>\n",
       "      <td>-122.045</td>\n",
       "      <td>1800</td>\n",
       "      <td>7503</td>\n",
       "      <td>1.0</td>\n",
       "    </tr>\n",
       "  </tbody>\n",
       "</table>\n",
       "</div>"
      ],
      "text/plain": [
       "      price  bedrooms  bathrooms  sqft_living  sqft_lot  floors  waterfront  \\\n",
       "0  221900.0         3       1.00         1180      5650     1.0           0   \n",
       "1  538000.0         3       2.25         2570      7242     2.0           0   \n",
       "2  180000.0         2       1.00          770     10000     1.0           0   \n",
       "3  604000.0         4       3.00         1960      5000     1.0           0   \n",
       "4  510000.0         3       2.00         1680      8080     1.0           0   \n",
       "\n",
       "   view  condition  grade  sqft_above  sqft_basement     long  sqft_living15  \\\n",
       "0     0          3      7        1180              0 -122.257           1340   \n",
       "1     0          3      7        2170            400 -122.319           1690   \n",
       "2     0          3      6         770              0 -122.233           2720   \n",
       "3     0          5      7        1050            910 -122.393           1360   \n",
       "4     0          3      8        1680              0 -122.045           1800   \n",
       "\n",
       "   sqft_lot15  bias  \n",
       "0        5650   1.0  \n",
       "1        7639   1.0  \n",
       "2        8062   1.0  \n",
       "3        5000   1.0  \n",
       "4        7503   1.0  "
      ]
     },
     "execution_count": 46,
     "metadata": {},
     "output_type": "execute_result"
    }
   ],
   "source": [
    "dataset.head()"
   ]
  },
  {
   "cell_type": "code",
   "execution_count": 47,
   "metadata": {},
   "outputs": [
    {
     "data": {
      "text/plain": [
       "(21613, 16)"
      ]
     },
     "execution_count": 47,
     "metadata": {},
     "output_type": "execute_result"
    }
   ],
   "source": [
    "dataset.shape"
   ]
  },
  {
   "cell_type": "markdown",
   "metadata": {},
   "source": [
    "## Splitting Our Data"
   ]
  },
  {
   "cell_type": "code",
   "execution_count": 48,
   "metadata": {},
   "outputs": [],
   "source": [
    "trainingdatasize = int(0.25*dataset.shape[0])"
   ]
  },
  {
   "cell_type": "code",
   "execution_count": 49,
   "metadata": {},
   "outputs": [],
   "source": [
    "trainingdata = dataset.iloc[0:trainingdatasize,:]"
   ]
  },
  {
   "cell_type": "code",
   "execution_count": 50,
   "metadata": {},
   "outputs": [],
   "source": [
    "testingdata = dataset.iloc[trainingdatasize:,:]"
   ]
  },
  {
   "cell_type": "markdown",
   "metadata": {},
   "source": [
    "## Normalize Our Data"
   ]
  },
  {
   "cell_type": "code",
   "execution_count": 51,
   "metadata": {},
   "outputs": [],
   "source": [
    "trainingdata = np.array(trainingdata)"
   ]
  },
  {
   "cell_type": "code",
   "execution_count": 52,
   "metadata": {},
   "outputs": [],
   "source": [
    "trainingdata = trainingdata/ trainingdata.max(axis = 0)"
   ]
  },
  {
   "cell_type": "code",
   "execution_count": 53,
   "metadata": {},
   "outputs": [],
   "source": [
    "trainingdata = pd.DataFrame(trainingdata)"
   ]
  },
  {
   "cell_type": "code",
   "execution_count": 54,
   "metadata": {},
   "outputs": [
    {
     "data": {
      "text/plain": [
       "(5403, 16)"
      ]
     },
     "execution_count": 54,
     "metadata": {},
     "output_type": "execute_result"
    }
   ],
   "source": [
    "trainingdata.shape"
   ]
  },
  {
   "cell_type": "code",
   "execution_count": 55,
   "metadata": {},
   "outputs": [],
   "source": [
    "labels = trainingdata[0]  #price column = 0"
   ]
  },
  {
   "cell_type": "code",
   "execution_count": 56,
   "metadata": {},
   "outputs": [
    {
     "data": {
      "text/plain": [
       "(5403,)"
      ]
     },
     "execution_count": 56,
     "metadata": {},
     "output_type": "execute_result"
    }
   ],
   "source": [
    "labels.shape"
   ]
  },
  {
   "cell_type": "code",
   "execution_count": 57,
   "metadata": {},
   "outputs": [],
   "source": [
    "inputtrainingdata = trainingdata.drop([0],axis=1,inplace=False)"
   ]
  },
  {
   "cell_type": "code",
   "execution_count": 58,
   "metadata": {},
   "outputs": [
    {
     "data": {
      "text/plain": [
       "(5403, 15)"
      ]
     },
     "execution_count": 58,
     "metadata": {},
     "output_type": "execute_result"
    }
   ],
   "source": [
    "inputtrainingdata.shape"
   ]
  },
  {
   "cell_type": "markdown",
   "metadata": {},
   "source": [
    "## Generate The Values of X,Y, and B"
   ]
  },
  {
   "cell_type": "code",
   "execution_count": 59,
   "metadata": {},
   "outputs": [],
   "source": [
    "m = len(inputtrainingdata)\n",
    "X = np.array(inputtrainingdata)\n",
    "# Initial Coefficients\n",
    "B = np.array([0, 0, 0, 0, 0, 0, 0, 0, 0, 0, 0, 0, 0, 0, 0])\n",
    "Y = np.array(labels)\n",
    "alpha = 0.5"
   ]
  },
  {
   "cell_type": "markdown",
   "metadata": {},
   "source": [
    "### Now Define Our Cost Function"
   ]
  },
  {
   "cell_type": "code",
   "execution_count": 60,
   "metadata": {},
   "outputs": [],
   "source": [
    "def cost_function(X, Y, B):\n",
    "    m = len(Y)\n",
    "    J = np.sum((X.dot(B) - Y) ** 2)/(2 * m)\n",
    "    return J"
   ]
  },
  {
   "cell_type": "code",
   "execution_count": 61,
   "metadata": {},
   "outputs": [
    {
     "name": "stdout",
     "output_type": "stream",
     "text": [
      "0.004328669732240921\n"
     ]
    }
   ],
   "source": [
    "inital_cost = cost_function(X, Y, B)\n",
    "print(inital_cost)"
   ]
  },
  {
   "cell_type": "markdown",
   "metadata": {},
   "source": [
    "## Now Reduce The Error Using Gradient Descent Algorithm"
   ]
  },
  {
   "cell_type": "code",
   "execution_count": 62,
   "metadata": {},
   "outputs": [],
   "source": [
    "def gradient_descent(X, Y, B, alpha, iterations):\n",
    "    cost_history = [0] * iterations\n",
    "    m = len(Y)\n",
    "    \n",
    "    for iteration in range(iterations):\n",
    "        # Hypothesis Values\n",
    "        h = X.dot(B)\n",
    "        # Difference b/w Hypothesis and Actual Y\n",
    "        loss = h - Y\n",
    "        # Gradient Calculation\n",
    "        gradient = X.T.dot(loss) / m\n",
    "        # Changing Values of B using Gradient\n",
    "        B = B - alpha * gradient\n",
    "        # New Cost Value\n",
    "        cost = cost_function(X, Y, B)\n",
    "        cost_history[iteration] = cost\n",
    "        \n",
    "    return B, cost_history"
   ]
  },
  {
   "cell_type": "markdown",
   "metadata": {},
   "source": [
    "### Now we will Compute The Final Value of B"
   ]
  },
  {
   "cell_type": "code",
   "execution_count": null,
   "metadata": {},
   "outputs": [],
   "source": [
    "# 100000 Iterations\n",
    "newB, cost_history = gradient_descent(X, Y, B,alpha, 500000)\n",
    "\n",
    "# New Values of B\n",
    "print(newB)\n",
    "\n",
    "# Final Cost of new B\n",
    "print(cost_history[-1])"
   ]
  },
  {
   "cell_type": "markdown",
   "metadata": {},
   "source": [
    "## Let’s calculate RMSE and R^2R Score of our model to evaluate."
   ]
  },
  {
   "cell_type": "code",
   "execution_count": null,
   "metadata": {},
   "outputs": [],
   "source": [
    "# Model Evaluation - RMSE\n",
    "def rmse(Y, Y_pred):\n",
    "    rmse = np.sqrt(sum((Y - Y_pred) ** 2) / len(Y))\n",
    "    return rmse\n",
    "\n",
    "# Model Evaluation - R2 Score\n",
    "def r2_score(Y, Y_pred):\n",
    "    mean_y = np.mean(Y)\n",
    "    ss_tot = sum((Y - mean_y) ** 2)\n",
    "    ss_res = sum((Y - Y_pred) ** 2)\n",
    "    r2 = 1 - (ss_res / ss_tot)\n",
    "    return r2\n",
    "\n",
    "Y_pred = X.dot(newB)\n",
    "\n",
    "print(rmse(Y, Y_pred))\n",
    "print(r2_score(Y, Y_pred))"
   ]
  },
  {
   "cell_type": "markdown",
   "metadata": {},
   "source": [
    "# The scikit-learn Approach"
   ]
  },
  {
   "cell_type": "markdown",
   "metadata": {},
   "source": [
    "### scikit-learn approach is very similar to Simple Linear Regression Model and simple too. Let’s implement this."
   ]
  },
  {
   "cell_type": "code",
   "execution_count": 29,
   "metadata": {},
   "outputs": [],
   "source": [
    "\n",
    "x = trainingdata.drop([0],axis=1,inplace=False)\n",
    "\n",
    "y = trainingdata[0]  #price column = 0"
   ]
  },
  {
   "cell_type": "code",
   "execution_count": 30,
   "metadata": {},
   "outputs": [
    {
     "name": "stdout",
     "output_type": "stream",
     "text": [
      "            1         2         3         4         5    6     7    8   \\\n",
      "0     0.333333  0.148148  0.117530  0.003421  0.285714  0.0  0.00  0.6   \n",
      "1     0.333333  0.333333  0.255976  0.004385  0.571429  0.0  0.00  0.6   \n",
      "2     0.222222  0.148148  0.076693  0.006056  0.285714  0.0  0.00  0.6   \n",
      "3     0.444444  0.444444  0.195219  0.003028  0.285714  0.0  0.00  1.0   \n",
      "4     0.333333  0.296296  0.167331  0.004893  0.285714  0.0  0.00  0.6   \n",
      "5     0.444444  0.666667  0.539841  0.061725  0.285714  0.0  0.00  0.6   \n",
      "6     0.333333  0.333333  0.170817  0.004129  0.571429  0.0  0.00  0.6   \n",
      "7     0.333333  0.222222  0.105578  0.005881  0.285714  0.0  0.00  0.6   \n",
      "8     0.333333  0.148148  0.177291  0.004524  0.285714  0.0  0.00  0.6   \n",
      "9     0.333333  0.370370  0.188247  0.003972  0.571429  0.0  0.00  0.6   \n",
      "10    0.333333  0.370370  0.354582  0.005932  0.285714  0.0  0.00  0.6   \n",
      "11    0.222222  0.148148  0.115538  0.003633  0.285714  0.0  0.00  0.8   \n",
      "12    0.333333  0.148148  0.142430  0.012051  0.428571  0.0  0.00  0.8   \n",
      "13    0.333333  0.259259  0.136454  0.005862  0.285714  0.0  0.00  0.8   \n",
      "14    0.555556  0.296296  0.180279  0.002937  0.428571  0.0  0.00  0.6   \n",
      "15    0.444444  0.444444  0.293825  0.003028  0.571429  0.0  0.75  0.6   \n",
      "16    0.333333  0.296296  0.188247  0.008502  0.571429  0.0  0.00  0.6   \n",
      "17    0.444444  0.148148  0.159363  0.002604  0.428571  0.0  0.00  0.8   \n",
      "18    0.222222  0.148148  0.119522  0.005965  0.285714  0.0  0.00  0.8   \n",
      "19    0.333333  0.148148  0.124502  0.005919  0.285714  0.0  0.00  0.8   \n",
      "20    0.444444  0.259259  0.161355  0.003016  0.285714  0.0  0.00  0.8   \n",
      "21    0.333333  0.407407  0.303785  0.027170  0.285714  0.0  1.00  0.6   \n",
      "22    0.555556  0.370370  0.226096  0.003815  0.571429  0.0  0.00  0.6   \n",
      "23    0.222222  0.222222  0.106574  0.005839  0.285714  0.0  0.00  0.6   \n",
      "24    0.333333  0.333333  0.244024  0.003936  0.571429  0.0  0.00  0.8   \n",
      "25    0.333333  0.296296  0.170319  0.002844  0.428571  0.0  0.00  1.0   \n",
      "26    0.333333  0.259259  0.244024  0.001630  0.571429  0.0  0.00  0.6   \n",
      "27    0.333333  0.148148  0.139442  0.000957  0.428571  0.0  0.00  1.0   \n",
      "28    0.333333  0.259259  0.151394  0.003863  0.285714  0.0  0.00  0.6   \n",
      "29    0.444444  0.370370  0.255976  0.004344  0.571429  0.0  0.00  0.6   \n",
      "...        ...       ...       ...       ...       ...  ...   ...  ...   \n",
      "5373  0.333333  0.370370  0.136454  0.004389  0.571429  0.0  0.00  0.6   \n",
      "5374  0.333333  0.148148  0.091633  0.003149  0.285714  0.0  0.00  0.8   \n",
      "5375  0.333333  0.222222  0.135458  0.005829  0.285714  0.0  0.00  0.6   \n",
      "5376  0.333333  0.222222  0.162351  0.007062  0.285714  0.0  0.00  0.6   \n",
      "5377  0.666667  0.370370  0.359562  0.007287  0.571429  0.0  0.00  0.6   \n",
      "5378  0.444444  0.370370  0.299801  0.005544  0.571429  0.0  0.00  0.6   \n",
      "5379  0.333333  0.259259  0.231076  0.003876  0.285714  0.0  0.50  0.8   \n",
      "5380  0.555556  0.444444  0.327689  0.008559  0.285714  0.0  0.00  0.6   \n",
      "5381  0.333333  0.370370  0.203187  0.004590  0.571429  0.0  0.50  0.6   \n",
      "5382  0.333333  0.407407  0.191235  0.004663  0.285714  0.0  0.00  0.8   \n",
      "5383  0.333333  0.370370  0.211155  0.002732  0.571429  0.0  0.00  0.6   \n",
      "5384  0.333333  0.370370  0.216135  0.003028  0.571429  0.0  0.00  0.6   \n",
      "5385  0.222222  0.222222  0.132470  0.009612  0.285714  0.0  0.00  0.6   \n",
      "5386  0.333333  0.296296  0.157371  0.003076  0.285714  0.0  0.00  0.8   \n",
      "5387  0.333333  0.407407  0.356574  0.008609  0.571429  0.0  0.75  0.8   \n",
      "5388  0.444444  0.296296  0.256972  0.002725  0.571429  0.0  0.00  0.8   \n",
      "5389  0.444444  0.259259  0.192231  0.006183  0.428571  0.0  0.50  0.6   \n",
      "5390  0.333333  0.370370  0.211155  0.002895  0.571429  0.0  0.00  0.6   \n",
      "5391  0.333333  0.370370  0.198207  0.012393  0.428571  0.0  0.00  0.8   \n",
      "5392  0.444444  0.259259  0.130478  0.005868  0.285714  0.0  0.00  0.8   \n",
      "5393  0.333333  0.370370  0.265936  0.008004  0.285714  0.0  0.00  0.8   \n",
      "5394  0.222222  0.333333  0.190239  0.065946  0.285714  0.0  0.00  0.8   \n",
      "5395  0.444444  0.222222  0.152390  0.005450  0.285714  0.0  0.00  0.8   \n",
      "5396  0.666667  0.259259  0.290837  0.003028  0.714286  0.0  0.00  0.8   \n",
      "5397  0.333333  0.148148  0.100598  0.004910  0.285714  0.0  0.00  0.6   \n",
      "5398  0.444444  0.259259  0.244024  0.008054  0.285714  0.0  0.50  0.8   \n",
      "5399  0.444444  0.370370  0.181275  0.002361  0.571429  0.0  0.00  0.6   \n",
      "5400  0.444444  0.370370  0.208167  0.005041  0.285714  0.0  0.00  0.8   \n",
      "5401  0.222222  0.259259  0.219124  0.054075  0.285714  0.0  0.00  0.6   \n",
      "5402  0.444444  0.444444  0.224104  0.004773  0.571429  0.0  0.00  0.6   \n",
      "\n",
      "            9         10        11        12        13        14   15  \n",
      "0     0.538462  0.153646  0.000000  1.007765  0.231434  0.012997  1.0  \n",
      "1     0.538462  0.282552  0.133333  1.008276  0.291883  0.017572  1.0  \n",
      "2     0.461538  0.100260  0.000000  1.007567  0.469775  0.018545  1.0  \n",
      "3     0.538462  0.136719  0.303333  1.008886  0.234888  0.011501  1.0  \n",
      "4     0.615385  0.218750  0.000000  1.006017  0.310881  0.017259  1.0  \n",
      "5     0.846154  0.506510  0.510000  1.005688  0.822107  0.234468  1.0  \n",
      "6     0.538462  0.223307  0.000000  1.008342  0.386528  0.015686  1.0  \n",
      "7     0.538462  0.138021  0.000000  1.008243  0.284974  0.022338  1.0  \n",
      "8     0.538462  0.136719  0.243333  1.008424  0.307427  0.018662  1.0  \n",
      "9     0.538462  0.246094  0.000000  1.005902  0.412781  0.017413  1.0  \n",
      "10    0.615385  0.242188  0.566667  1.006842  0.381693  0.020530  1.0  \n",
      "11    0.538462  0.111979  0.100000  1.008053  0.229706  0.013802  1.0  \n",
      "12    0.538462  0.186198  0.000000  1.007534  0.307427  0.029207  1.0  \n",
      "13    0.538462  0.178385  0.000000  1.006017  0.236615  0.023481  1.0  \n",
      "14    0.538462  0.235677  0.000000  1.008894  0.234888  0.011156  1.0  \n",
      "15    0.692308  0.257812  0.323333  1.008738  0.369603  0.009201  1.0  \n",
      "16    0.538462  0.246094  0.000000  1.005333  0.326425  0.032245  1.0  \n",
      "17    0.538462  0.208333  0.000000  1.008474  0.278066  0.009891  1.0  \n",
      "18    0.538462  0.156250  0.000000  1.007377  0.183074  0.011720  1.0  \n",
      "19    0.538462  0.162760  0.000000  1.008169  0.221071  0.020358  1.0  \n",
      "20    0.538462  0.111979  0.253333  1.008457  0.241796  0.011455  1.0  \n",
      "21    0.692308  0.303385  0.240000  1.007567  0.709845  0.046779  1.0  \n",
      "22    0.615385  0.295573  0.000000  1.007040  0.386874  0.016114  1.0  \n",
      "23    0.538462  0.139323  0.000000  1.007015  0.210708  0.019290  1.0  \n",
      "24    0.615385  0.319010  0.000000  1.007064  0.379965  0.015791  1.0  \n",
      "25    0.461538  0.222656  0.000000  1.007443  0.177893  0.010823  1.0  \n",
      "26    0.615385  0.227865  0.233333  1.008614  0.303972  0.008219  1.0  \n",
      "27    0.615385  0.182292  0.000000  1.008235  0.321244  0.008881  1.0  \n",
      "28    0.538462  0.102865  0.243333  1.008152  0.262522  0.014342  1.0  \n",
      "29    0.615385  0.334635  0.000000  1.006553  0.454231  0.013862  1.0  \n",
      "...        ...       ...       ...       ...       ...       ...  ...  \n",
      "5373  0.538462  0.178385  0.000000  1.008144  0.297064  0.018598  1.0  \n",
      "5374  0.461538  0.119792  0.000000  1.006347  0.158895  0.011962  1.0  \n",
      "5375  0.538462  0.177083  0.000000  1.007386  0.326425  0.022140  1.0  \n",
      "5376  0.538462  0.212240  0.000000  1.007938  0.293610  0.026826  1.0  \n",
      "5377  0.615385  0.417969  0.133333  1.007452  0.381693  0.019730  1.0  \n",
      "5378  0.692308  0.391927  0.000000  1.005869  0.519862  0.013254  1.0  \n",
      "5379  0.615385  0.184896  0.300000  1.008853  0.438687  0.017666  1.0  \n",
      "5380  0.538462  0.243490  0.473333  1.006800  0.340242  0.026384  1.0  \n",
      "5381  0.615385  0.265625  0.000000  1.007369  0.338515  0.017988  1.0  \n",
      "5382  0.615385  0.171875  0.200000  1.008762  0.352332  0.018402  1.0  \n",
      "5383  0.615385  0.276042  0.000000  1.007155  0.345423  0.010473  1.0  \n",
      "5384  0.692308  0.282552  0.000000  1.005613  0.374784  0.011501  1.0  \n",
      "5385  0.538462  0.117188  0.143333  1.005918  0.278066  0.027702  1.0  \n",
      "5386  0.461538  0.104167  0.260000  1.008532  0.272884  0.016364  1.0  \n",
      "5387  0.769231  0.287760  0.456667  1.008771  0.689119  0.033754  1.0  \n",
      "5388  0.692308  0.240885  0.243333  1.008251  0.447323  0.009431  1.0  \n",
      "5389  0.615385  0.217448  0.086667  1.007930  0.471503  0.015182  1.0  \n",
      "5390  0.538462  0.276042  0.000000  1.005910  0.291883  0.006096  1.0  \n",
      "5391  0.615385  0.183594  0.193333  1.004789  0.286701  0.214831  1.0  \n",
      "5392  0.538462  0.170573  0.000000  1.007509  0.393782  0.022124  1.0  \n",
      "5393  0.769231  0.347656  0.000000  1.006908  0.338515  0.030203  1.0  \n",
      "5394  0.538462  0.131510  0.300000  1.005836  0.354059  0.250501  1.0  \n",
      "5395  0.461538  0.199219  0.000000  1.004888  0.262522  0.019552  1.0  \n",
      "5396  0.692308  0.361979  0.046667  1.008078  0.348877  0.011501  1.0  \n",
      "5397  0.538462  0.131510  0.000000  1.008194  0.191710  0.018651  1.0  \n",
      "5398  0.692308  0.212240  0.273333  1.006718  0.544041  0.035654  1.0  \n",
      "5399  0.538462  0.236979  0.000000  1.005523  0.314335  0.008969  1.0  \n",
      "5400  0.538462  0.191406  0.206667  1.007163  0.293610  0.018460  1.0  \n",
      "5401  0.538462  0.143229  0.366667  1.005449  0.447323  0.205411  1.0  \n",
      "5402  0.615385  0.204427  0.226667  1.008235  0.267703  0.017271  1.0  \n",
      "\n",
      "[5403 rows x 15 columns]\n",
      "             0\n",
      "0     0.031419\n",
      "1     0.076177\n",
      "2     0.025487\n",
      "3     0.085522\n",
      "4     0.072212\n",
      "5     0.173451\n",
      "6     0.036460\n",
      "7     0.041324\n",
      "8     0.032496\n",
      "9     0.045735\n",
      "10    0.093805\n",
      "11    0.066265\n",
      "12    0.043894\n",
      "13    0.056637\n",
      "14    0.075044\n",
      "15    0.092035\n",
      "16    0.055929\n",
      "17    0.068673\n",
      "18    0.026761\n",
      "19    0.032566\n",
      "20    0.054513\n",
      "21    0.283186\n",
      "22    0.040354\n",
      "23    0.035781\n",
      "24    0.046584\n",
      "25    0.032991\n",
      "26    0.132673\n",
      "27    0.094442\n",
      "28    0.062018\n",
      "29    0.101805\n",
      "...        ...\n",
      "5373  0.032708\n",
      "5374  0.025345\n",
      "5375  0.034549\n",
      "5376  0.026315\n",
      "5377  0.086372\n",
      "5378  0.059327\n",
      "5379  0.110301\n",
      "5380  0.098407\n",
      "5381  0.045296\n",
      "5382  0.046584\n",
      "5383  0.067289\n",
      "5384  0.090336\n",
      "5385  0.062301\n",
      "5386  0.030301\n",
      "5387  0.084956\n",
      "5388  0.132389\n",
      "5389  0.089204\n",
      "5390  0.081416\n",
      "5391  0.048850\n",
      "5392  0.045735\n",
      "5393  0.060177\n",
      "5394  0.058195\n",
      "5395  0.042450\n",
      "5396  0.116531\n",
      "5397  0.028319\n",
      "5398  0.107611\n",
      "5399  0.050966\n",
      "5400  0.053097\n",
      "5401  0.041770\n",
      "5402  0.035398\n",
      "\n",
      "[5403 rows x 1 columns]\n"
     ]
    }
   ],
   "source": [
    "\n",
    "print(pd.DataFrame(x))\n",
    "print(pd.DataFrame(y))\n"
   ]
  },
  {
   "cell_type": "code",
   "execution_count": 31,
   "metadata": {},
   "outputs": [],
   "source": [
    "from sklearn.model_selection import train_test_split\n",
    "from sklearn.preprocessing import StandardScaler\n",
    "from sklearn.linear_model import LinearRegression\n",
    "from sklearn.metrics import r2_score"
   ]
  },
  {
   "cell_type": "code",
   "execution_count": 32,
   "metadata": {},
   "outputs": [],
   "source": [
    "x_train, x_test, y_train, y_test = train_test_split(x, y, test_size=0.25)"
   ]
  },
  {
   "cell_type": "code",
   "execution_count": 33,
   "metadata": {},
   "outputs": [
    {
     "data": {
      "text/plain": [
       "LinearRegression(copy_X=True, fit_intercept=True, n_jobs=1, normalize=False)"
      ]
     },
     "execution_count": 33,
     "metadata": {},
     "output_type": "execute_result"
    }
   ],
   "source": [
    "# sc = StandardScaler()\n",
    "# x_train = sc.fit_transform(x_train)\n",
    "# x_test = sc.transform(x_test)\n",
    "\n",
    "regressor = LinearRegression()\n",
    "regressor.fit(x_train, y_train)"
   ]
  },
  {
   "cell_type": "code",
   "execution_count": 34,
   "metadata": {},
   "outputs": [
    {
     "name": "stdout",
     "output_type": "stream",
     "text": [
      "59.7 %\n"
     ]
    }
   ],
   "source": [
    "y_pred = regressor.predict(x_test)\n",
    "\n",
    "print(round(r2_score(y_test, y_pred)*100, 2), '%')"
   ]
  },
  {
   "cell_type": "code",
   "execution_count": null,
   "metadata": {},
   "outputs": [],
   "source": []
  },
  {
   "cell_type": "code",
   "execution_count": null,
   "metadata": {},
   "outputs": [],
   "source": []
  }
 ],
 "metadata": {
  "kernelspec": {
   "display_name": "Python 3",
   "language": "python",
   "name": "python3"
  },
  "language_info": {
   "codemirror_mode": {
    "name": "ipython",
    "version": 3
   },
   "file_extension": ".py",
   "mimetype": "text/x-python",
   "name": "python",
   "nbconvert_exporter": "python",
   "pygments_lexer": "ipython3",
   "version": "3.7.0"
  }
 },
 "nbformat": 4,
 "nbformat_minor": 2
}
